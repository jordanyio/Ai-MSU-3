{
 "cells": [
  {
   "cell_type": "code",
   "execution_count": 2,
   "metadata": {},
   "outputs": [
    {
     "name": "stdout",
     "output_type": "stream",
     "text": [
      "Collecting deuces\n",
      "  Downloading https://files.pythonhosted.org/packages/29/5a/18d79a016c7ad1ad44802bfa1c2b6f959ee687d4bd236177b49553b8425f/deuces-0.2.1-py3-none-any.whl\n",
      "Installing collected packages: deuces\n",
      "Successfully installed deuces-0.2.1\n"
     ]
    }
   ],
   "source": [
    "!pip install deuces"
   ]
  },
  {
   "cell_type": "code",
   "execution_count": 4,
   "metadata": {},
   "outputs": [
    {
     "name": "stdout",
     "output_type": "stream",
     "text": [
      "Score for Hand 1: 2573\n",
      "Score for Hand 2: 17\n",
      "Hand 2 wins\n"
     ]
    }
   ],
   "source": [
    "\n",
    "from deuces import Evaluator, Card\n",
    "\n",
    "# Initialize the evaluator\n",
    "evaluator = Evaluator()\n",
    "\n",
    "# Example cards\n",
    "board = [\n",
    "    Card.new('2h'), Card.new('5h'), Card.new('7d'), Card.new('Ad'), Card.new('Ac')  # 2 of Hearts, 5 of Hearts, 7 of Diamonds\n",
    "]\n",
    "hand1 = [Card.new('4d'), Card.new('4s')]  # 4 of Diamonds, 4 of Spades\n",
    "hand2 = [Card.new('Ah'), Card.new('As')]  # Ace of Hearts, Ace of Spades\n",
    "\n",
    "# Evaluate hands\n",
    "score1 = evaluator.evaluate(board, hand1)\n",
    "score2 = evaluator.evaluate(board, hand2)\n",
    "\n",
    "# Output scores\n",
    "print(\"Score for Hand 1:\", score1)\n",
    "print(\"Score for Hand 2:\", score2)\n",
    "\n",
    "# Compare hands\n",
    "if score1 < score2:\n",
    "    print(\"Hand 1 wins\")\n",
    "else:\n",
    "    print(\"Hand 2 wins\")\n"
   ]
  },
  {
   "cell_type": "code",
   "execution_count": null,
   "metadata": {},
   "outputs": [],
   "source": []
  }
 ],
 "metadata": {
  "kernelspec": {
   "display_name": "Python 3",
   "language": "python",
   "name": "python3"
  },
  "language_info": {
   "codemirror_mode": {
    "name": "ipython",
    "version": 3
   },
   "file_extension": ".py",
   "mimetype": "text/x-python",
   "name": "python",
   "nbconvert_exporter": "python",
   "pygments_lexer": "ipython3",
   "version": "3.7.3"
  }
 },
 "nbformat": 4,
 "nbformat_minor": 2
}
